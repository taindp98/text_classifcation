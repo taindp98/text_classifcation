{
 "cells": [
  {
   "cell_type": "code",
   "execution_count": 4,
   "metadata": {},
   "outputs": [],
   "source": [
    "from torchtext.vocab import Vectors\n",
    "import torch\n",
    "from torch.utils.data import Dataset, DataLoader"
   ]
  },
  {
   "cell_type": "code",
   "execution_count": 6,
   "metadata": {},
   "outputs": [],
   "source": [
    "from torchtext import data"
   ]
  },
  {
   "cell_type": "code",
   "execution_count": 10,
   "metadata": {},
   "outputs": [],
   "source": [
    "LABEL = data.LabelField()\n",
    "TWEET = data.Field(lower=True)"
   ]
  },
  {
   "cell_type": "code",
   "execution_count": null,
   "metadata": {},
   "outputs": [],
   "source": [
    "\n",
    "# vectors = Vectors(name='glove.6B.300d.txt', cache='.vector_cache')\n",
    "REVIEW.build_vocab(train_data, # Build vocabulary training set is built, do not use verification and test sets\n",
    "                  max_size=400000, # Word list capacity\n",
    "                  vectors='glove.6B.300d', # There 'glove.840B.300d' has a lot to choose\n",
    "                  unk_init=torch.Tensor.normal_ Pre-training vector word vocabulary word does not exist in the # initialization train_data\n",
    ")\n",
    "\n",
    "# Print (REVIEW.vocab.freqs.most_common (20)) data set of 20 most frequently occurring words\n",
    "# Print (REVIEW.vocab.itos [: 10]) index to word list\n",
    "# Print (REVIEW.vocab.stoi) dictionary word to index"
   ]
  }
 ],
 "metadata": {
  "kernelspec": {
   "display_name": "nlp",
   "language": "python",
   "name": "nlp"
  },
  "language_info": {
   "codemirror_mode": {
    "name": "ipython",
    "version": 3
   },
   "file_extension": ".py",
   "mimetype": "text/x-python",
   "name": "python",
   "nbconvert_exporter": "python",
   "pygments_lexer": "ipython3",
   "version": "3.6.12"
  }
 },
 "nbformat": 4,
 "nbformat_minor": 4
}
