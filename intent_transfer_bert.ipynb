{
 "cells": [
  {
   "cell_type": "code",
   "execution_count": 20,
   "metadata": {},
   "outputs": [
    {
     "name": "stdout",
     "output_type": "stream",
     "text": [
      "The autoreload extension is already loaded. To reload it, use:\n",
      "  %reload_ext autoreload\n"
     ]
    }
   ],
   "source": [
    "%load_ext autoreload\n",
    "%autoreload 2\n",
    "\n",
    "from transformers import AutoTokenizer, RobertaConfig,AutoModel\n",
    "import torch\n",
    "import torch.nn as nn\n",
    "import numpy as np\n",
    "from tqdm import tqdm\n",
    "from sklearn.model_selection import train_test_split\n",
    "from sklearn.metrics import mean_squared_error\n",
    "from torch.utils.data import Dataset, DataLoader\n",
    "import torch.nn.functional as F\n",
    "import pandas as pd\n",
    "import os\n",
    "import matplotlib.pyplot as plt\n",
    "from tqdm import tqdm\n",
    "\n",
    "from transfer_bert import PhoBert_transform\n",
    "from model import LSTM_fixed_len\n",
    "from train import *\n",
    "from utils import ReviewsDataset"
   ]
  },
  {
   "cell_type": "code",
   "execution_count": 2,
   "metadata": {},
   "outputs": [
    {
     "name": "stderr",
     "output_type": "stream",
     "text": [
      "Special tokens have been added in the vocabulary, make sure the associated word embedding are fine-tuned or trained.\n"
     ]
    }
   ],
   "source": [
    "phobert = AutoModel.from_pretrained(\"vinai/phobert-base\")\n",
    "tokenizer = AutoTokenizer.from_pretrained(\"vinai/phobert-base\")"
   ]
  },
  {
   "cell_type": "code",
   "execution_count": 3,
   "metadata": {},
   "outputs": [],
   "source": [
    "max_length = 15"
   ]
  },
  {
   "cell_type": "code",
   "execution_count": 4,
   "metadata": {},
   "outputs": [],
   "source": [
    "model = PhoBert_transform(tokenizer,phobert,max_length)"
   ]
  },
  {
   "cell_type": "markdown",
   "metadata": {},
   "source": [
    "# Load data"
   ]
  },
  {
   "cell_type": "code",
   "execution_count": 5,
   "metadata": {},
   "outputs": [],
   "source": [
    "data_path = '/home/taindp/Jupyter/intent_bert/data'"
   ]
  },
  {
   "cell_type": "code",
   "execution_count": 6,
   "metadata": {},
   "outputs": [],
   "source": [
    "question = pd.read_csv(os.path.join(data_path,'train_intent_rm_sw.csv'))"
   ]
  },
  {
   "cell_type": "code",
   "execution_count": 7,
   "metadata": {},
   "outputs": [],
   "source": [
    "question['length'] = [len(item) for item in list(question['content'])]\n",
    "question['num_word'] = [len(item.split(' ')) for item in list(question['content'])]"
   ]
  },
  {
   "cell_type": "code",
   "execution_count": 8,
   "metadata": {},
   "outputs": [
    {
     "data": {
      "text/plain": [
       "(array([37., 66., 29., 20., 13.,  1.,  2.,  5.,  1.,  3.]),\n",
       " array([ 5., 11., 17., 23., 29., 35., 41., 47., 53., 59., 65.]),\n",
       " <BarContainer object of 10 artists>)"
      ]
     },
     "execution_count": 8,
     "metadata": {},
     "output_type": "execute_result"
    },
    {
     "data": {
      "image/png": "[encoded data removed]",
      "text/plain": [
       "<Figure size 432x288 with 1 Axes>"
      ]
     },
     "metadata": {
      "needs_background": "light"
     },
     "output_type": "display_data"
    }
   ],
   "source": [
    "plt.hist(list(question['num_word']), bins = 10)"
   ]
  },
  {
   "cell_type": "code",
   "execution_count": 9,
   "metadata": {
    "scrolled": true
   },
   "outputs": [],
   "source": [
    "# max_length = 15\n",
    "# list_emb_vector = []\n",
    "# for sent in tqdm(list(question['content']),total = len(list(question['content']))):\n",
    "#     input_ids = model.tokenizer_list_sentences([sent], max_length)\n",
    "#     embedding = model.embedding_list_token(input_ids)\n",
    "#     list_emb_vector.append(embedding)\n",
    "# question['emb_vector'] = list_emb_vector\n",
    "# torch.save(question,os.path.join(data_path,'trainset'))"
   ]
  },
  {
   "cell_type": "code",
   "execution_count": 10,
   "metadata": {},
   "outputs": [],
   "source": [
    "question = torch.load(os.path.join(data_path,'trainset'))"
   ]
  },
  {
   "cell_type": "code",
   "execution_count": 11,
   "metadata": {},
   "outputs": [],
   "source": [
    "X = list(question['emb_vector'])\n",
    "y = list(question['label'])\n",
    "\n",
    "X_train, X_valid, y_train, y_valid = train_test_split(X, y, test_size=0.2)"
   ]
  },
  {
   "cell_type": "code",
   "execution_count": 12,
   "metadata": {},
   "outputs": [],
   "source": [
    "# y_train"
   ]
  },
  {
   "cell_type": "code",
   "execution_count": 13,
   "metadata": {},
   "outputs": [],
   "source": [
    "train_ds = ReviewsDataset(X_train, y_train)\n",
    "valid_ds = ReviewsDataset(X_valid, y_valid)"
   ]
  },
  {
   "cell_type": "code",
   "execution_count": 14,
   "metadata": {},
   "outputs": [],
   "source": [
    "# for x,y in train_ds:\n",
    "#     print(y)"
   ]
  },
  {
   "cell_type": "code",
   "execution_count": 15,
   "metadata": {},
   "outputs": [],
   "source": [
    "batch_size = 1\n",
    "train_dl = DataLoader(train_ds, batch_size=batch_size, shuffle=True)\n",
    "val_dl = DataLoader(valid_ds, batch_size=batch_size)"
   ]
  },
  {
   "cell_type": "code",
   "execution_count": 26,
   "metadata": {},
   "outputs": [
    {
     "data": {
      "text/plain": [
       "LSTM_fixed_len(\n",
       "  (lstm): LSTM(768, 100, num_layers=2, dropout=0.5, bidirectional=True)\n",
       "  (fc1): Linear(in_features=200, out_features=100, bias=True)\n",
       "  (fc2): Linear(in_features=100, out_features=1, bias=True)\n",
       "  (dropout): Dropout(p=0.5)\n",
       ")"
      ]
     },
     "execution_count": 26,
     "metadata": {},
     "output_type": "execute_result"
    }
   ],
   "source": [
    "model_fixed =  LSTM_fixed_len(\n",
    "                           embedding_dim = 768,\\\n",
    "                           hidden_dim = 100,\\\n",
    "                           num_layers = 2, \\\n",
    "                           bidirectional=True,\\\n",
    "                           dropout=0.5)\n",
    "model_fixed.cpu()"
   ]
  },
  {
   "cell_type": "code",
   "execution_count": 27,
   "metadata": {
    "scrolled": true
   },
   "outputs": [
    {
     "name": "stdout",
     "output_type": "stream",
     "text": [
      "\tTrain Loss: 0.695 | Train Acc: 50.35%\n",
      "\t Val. Acc: 63.89%\n",
      "\tTrain Loss: 0.695 | Train Acc: 61.70%\n",
      "\t Val. Acc: 61.11%\n",
      "\tTrain Loss: 0.666 | Train Acc: 62.41%\n",
      "\t Val. Acc: 58.33%\n",
      "\tTrain Loss: 0.643 | Train Acc: 60.99%\n",
      "\t Val. Acc: 69.44%\n",
      "\tTrain Loss: 0.611 | Train Acc: 63.83%\n",
      "\t Val. Acc: 66.67%\n",
      "\tTrain Loss: 0.563 | Train Acc: 65.25%\n",
      "\t Val. Acc: 63.89%\n",
      "\tTrain Loss: 0.608 | Train Acc: 63.12%\n",
      "\t Val. Acc: 63.89%\n",
      "\tTrain Loss: 0.578 | Train Acc: 63.12%\n",
      "\t Val. Acc: 63.89%\n",
      "\tTrain Loss: 0.530 | Train Acc: 70.92%\n",
      "\t Val. Acc: 61.11%\n",
      "\tTrain Loss: 0.574 | Train Acc: 67.38%\n",
      "\t Val. Acc: 61.11%\n",
      "\tTrain Loss: 0.561 | Train Acc: 66.67%\n",
      "\t Val. Acc: 66.67%\n",
      "\tTrain Loss: 0.545 | Train Acc: 67.38%\n",
      "\t Val. Acc: 61.11%\n",
      "\tTrain Loss: 0.468 | Train Acc: 75.18%\n",
      "\t Val. Acc: 58.33%\n",
      "\tTrain Loss: 0.531 | Train Acc: 68.79%\n",
      "\t Val. Acc: 69.44%\n",
      "\tTrain Loss: 0.478 | Train Acc: 77.30%\n",
      "\t Val. Acc: 69.44%\n",
      "\tTrain Loss: 0.486 | Train Acc: 70.92%\n",
      "\t Val. Acc: 58.33%\n",
      "\tTrain Loss: 0.505 | Train Acc: 71.63%\n",
      "\t Val. Acc: 63.89%\n",
      "\tTrain Loss: 0.443 | Train Acc: 73.05%\n",
      "\t Val. Acc: 63.89%\n",
      "\tTrain Loss: 0.429 | Train Acc: 75.89%\n",
      "\t Val. Acc: 61.11%\n",
      "\tTrain Loss: 0.417 | Train Acc: 76.60%\n",
      "\t Val. Acc: 61.11%\n",
      "\tTrain Loss: 0.478 | Train Acc: 68.09%\n",
      "\t Val. Acc: 61.11%\n",
      "\tTrain Loss: 0.447 | Train Acc: 72.34%\n",
      "\t Val. Acc: 66.67%\n",
      "\tTrain Loss: 0.400 | Train Acc: 78.01%\n",
      "\t Val. Acc: 61.11%\n",
      "\tTrain Loss: 0.470 | Train Acc: 70.92%\n",
      "\t Val. Acc: 66.67%\n",
      "\tTrain Loss: 0.401 | Train Acc: 77.30%\n",
      "\t Val. Acc: 63.89%\n",
      "\tTrain Loss: 0.442 | Train Acc: 73.76%\n",
      "\t Val. Acc: 63.89%\n",
      "\tTrain Loss: 0.360 | Train Acc: 77.30%\n",
      "\t Val. Acc: 61.11%\n",
      "\tTrain Loss: 0.395 | Train Acc: 78.01%\n",
      "\t Val. Acc: 61.11%\n",
      "\tTrain Loss: 0.337 | Train Acc: 78.01%\n",
      "\t Val. Acc: 63.89%\n",
      "\tTrain Loss: 0.452 | Train Acc: 71.63%\n",
      "\t Val. Acc: 61.11%\n",
      "\tTrain Loss: 0.382 | Train Acc: 78.72%\n",
      "\t Val. Acc: 58.33%\n",
      "\tTrain Loss: 0.334 | Train Acc: 78.01%\n",
      "\t Val. Acc: 61.11%\n",
      "\tTrain Loss: 0.358 | Train Acc: 80.14%\n",
      "\t Val. Acc: 58.33%\n",
      "\tTrain Loss: 0.390 | Train Acc: 77.30%\n",
      "\t Val. Acc: 58.33%\n",
      "\tTrain Loss: 0.376 | Train Acc: 77.30%\n",
      "\t Val. Acc: 66.67%\n",
      "\tTrain Loss: 0.360 | Train Acc: 77.30%\n",
      "\t Val. Acc: 61.11%\n",
      "\tTrain Loss: 0.399 | Train Acc: 74.47%\n",
      "\t Val. Acc: 66.67%\n",
      "\tTrain Loss: 0.437 | Train Acc: 69.50%\n",
      "\t Val. Acc: 61.11%\n",
      "\tTrain Loss: 0.416 | Train Acc: 77.30%\n",
      "\t Val. Acc: 63.89%\n",
      "\tTrain Loss: 0.442 | Train Acc: 74.47%\n",
      "\t Val. Acc: 58.33%\n",
      "\tTrain Loss: 0.347 | Train Acc: 78.01%\n",
      "\t Val. Acc: 63.89%\n",
      "\tTrain Loss: 0.356 | Train Acc: 77.30%\n",
      "\t Val. Acc: 61.11%\n",
      "\tTrain Loss: 0.354 | Train Acc: 75.18%\n",
      "\t Val. Acc: 61.11%\n",
      "\tTrain Loss: 0.404 | Train Acc: 73.76%\n",
      "\t Val. Acc: 69.44%\n",
      "\tTrain Loss: 0.396 | Train Acc: 72.34%\n",
      "\t Val. Acc: 66.67%\n",
      "\tTrain Loss: 0.390 | Train Acc: 75.18%\n",
      "\t Val. Acc: 55.56%\n",
      "\tTrain Loss: 0.406 | Train Acc: 76.60%\n",
      "\t Val. Acc: 61.11%\n",
      "\tTrain Loss: 0.383 | Train Acc: 76.60%\n",
      "\t Val. Acc: 61.11%\n",
      "\tTrain Loss: 0.439 | Train Acc: 74.47%\n",
      "\t Val. Acc: 55.56%\n",
      "\tTrain Loss: 0.352 | Train Acc: 78.01%\n",
      "\t Val. Acc: 61.11%\n"
     ]
    }
   ],
   "source": [
    "optimizer = torch.optim.Adam(model_fixed.parameters(), lr=0.001)\n",
    "#     criterion = nn.CrossEntropyLoss()\n",
    "criterion = nn.BCEWithLogitsLoss()\n",
    "loss=[]\n",
    "acc=[]\n",
    "val_acc=[]\n",
    "for epoch in range(50):\n",
    "    train_loss, train_acc = train_model(model_fixed,train_dl,optimizer,criterion)\n",
    "    valid_acc = evaluate (model_fixed, val_dl)\n",
    "    \n",
    "    print(f'\\tTrain Loss: {train_loss:.3f} | Train Acc: {train_acc*100:.2f}%')\n",
    "    print(f'\\t Val. Acc: {valid_acc*100:.2f}%')\n",
    "    \n",
    "    loss.append(train_loss)\n",
    "    acc.append(train_acc)\n",
    "    val_acc.append(valid_acc)"
   ]
  }
 ],
 "metadata": {
  "kernelspec": {
   "display_name": "nlp",
   "language": "python",
   "name": "nlp"
  },
  "language_info": {
   "codemirror_mode": {
    "name": "ipython",
    "version": 3
   },
   "file_extension": ".py",
   "mimetype": "text/x-python",
   "name": "python",
   "nbconvert_exporter": "python",
   "pygments_lexer": "ipython3",
   "version": "3.6.12"
  }
 },
 "nbformat": 4,
 "nbformat_minor": 4
}
